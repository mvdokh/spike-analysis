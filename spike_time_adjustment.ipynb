{
 "cells": [
  {
   "cell_type": "markdown",
   "id": "59c0dd90",
   "metadata": {},
   "source": [
    "# Spike Time Adjustment Analysis\n",
    "\n",
    "This notebook demonstrates how to use the custom utility function to process the `spikes_zeroing.csv` file by multiplying the first column (time values) by 30,000 and rounding to whole numbers, then saving the result to `spikes_time_adjusted.csv`."
   ]
  },
  {
   "cell_type": "markdown",
   "id": "c3a9b61c",
   "metadata": {},
   "source": [
    "## Import Required Libraries\n",
    "\n",
    "First, let's import the necessary libraries including pandas and our custom utils module that contains the spike time adjustment function."
   ]
  },
  {
   "cell_type": "code",
   "execution_count": null,
   "id": "cbc5553b",
   "metadata": {},
   "outputs": [
    {
     "name": "stdout",
     "output_type": "stream",
     "text": [
      "Libraries imported successfully!\n",
      "Current working directory: /home/wanglab/spike-analysis\n",
      "Files in directory: ['digitalin.dat', 'pattern_identifier_compact.ipynb', 'pattern_identifier.ipynb', '.git', 'test_pattern_analysis.py', '__pycache__', 'spikes_zeroing.csv', 'spike_raster_analysis.py', 'pico.csv', 'pattern_analysis_unit_1.json', 'spike_raster_analysis_full.png', 'README.md', 'spike_time_adjustment.ipynb', 'electrode.cfg', 'spikes.csv', 'utils.py']\n"
     ]
    }
   ],
   "source": [
    "import pandas as pd\n",
    "import numpy as np\n",
    "import os\n",
    "\n",
    "from utils import adjust_spike_times"
   ]
  },
  {
   "cell_type": "markdown",
   "id": "c699e360",
   "metadata": {},
   "source": [
    "## Process the Spike Data\n",
    "\n",
    "Now let's use our custom `adjust_spike_times` function from the utils module to process the data. This function will:\n",
    "1. Read the `spikes_zeroing.csv` file\n",
    "2. Multiply the first column (time values) by 30,000\n",
    "3. Round the results to the nearest whole number\n",
    "4. Save the processed data to `spikes_time_adjusted.csv`"
   ]
  },
  {
   "cell_type": "code",
   "execution_count": 5,
   "id": "c41fd828",
   "metadata": {},
   "outputs": [
    {
     "name": "stdout",
     "output_type": "stream",
     "text": [
      "Reading spike data from spikes_zeroing.csv...\n",
      "Adjusting spike times (multiplying by 30,000 and rounding)...\n",
      "Saving adjusted data to spikes_time_adjusted.csv...\n",
      "Successfully processed 288393 spike records\n",
      "Time range: 358907 to 27276990\n",
      "\n",
      "Processing completed!\n",
      "Function returned the processed DataFrame:\n",
      "Successfully processed 288393 spike records\n",
      "Time range: 358907 to 27276990\n",
      "\n",
      "Processing completed!\n",
      "Function returned the processed DataFrame:\n"
     ]
    }
   ],
   "source": [
    "# Use the adjust_spike_times function to process the data\n",
    "processed_data = adjust_spike_times()\n",
    "\n",
    "print(\"\\nProcessing completed!\")\n",
    "print(\"Function returned the processed DataFrame:\")"
   ]
  }
 ],
 "metadata": {
  "kernelspec": {
   "display_name": "base",
   "language": "python",
   "name": "python3"
  },
  "language_info": {
   "codemirror_mode": {
    "name": "ipython",
    "version": 3
   },
   "file_extension": ".py",
   "mimetype": "text/x-python",
   "name": "python",
   "nbconvert_exporter": "python",
   "pygments_lexer": "ipython3",
   "version": "3.11.13"
  }
 },
 "nbformat": 4,
 "nbformat_minor": 5
}
