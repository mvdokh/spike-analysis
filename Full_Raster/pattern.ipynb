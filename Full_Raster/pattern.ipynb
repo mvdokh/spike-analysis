{
 "cells": [
  {
   "cell_type": "markdown",
   "id": "c0b7ae19",
   "metadata": {},
   "source": [
    "# Spike Pattern Identifier\n",
    "\n",
    "Interactive notebook for analyzing neural spike patterns with configurable parameters.\n",
    "This notebook uses the custom `utils.py` module to identify different firing patterns in spike data."
   ]
  },
  {
   "cell_type": "markdown",
   "id": "9e39f0ed",
   "metadata": {},
   "source": [
    "## 1. Import Required Libraries and Utils Module\n",
    "\n",
    "Import all necessary libraries and our custom pattern analysis utilities."
   ]
  },
  {
   "cell_type": "code",
   "execution_count": 1,
   "id": "b73d9ee9",
   "metadata": {},
   "outputs": [],
   "source": [
    "# Import required libraries\n",
    "import pandas as pd\n",
    "import numpy as np\n",
    "import matplotlib.pyplot as plt\n",
    "import seaborn as sns\n",
    "from ipywidgets import interact, interactive, fixed, interact_manual\n",
    "import ipywidgets as widgets\n",
    "from IPython.display import display, clear_output\n",
    "import json\n",
    "import warnings\n",
    "warnings.filterwarnings('ignore')\n",
    "\n",
    "# Import our custom utils module\n",
    "from utils import SpikePatternAnalyzer, load_spike_data, load_electrode_config, plot_unit_analysis, print_data_summary\n",
    "\n",
    "# Set up plotting style\n",
    "plt.style.use('default')\n",
    "sns.set_palette(\"husl\")"
   ]
  },
  {
   "cell_type": "markdown",
   "id": "f7edf671",
   "metadata": {},
   "source": [
    "## 2. Load and Prepare Unit Data\n",
    "\n",
    "Load spike data and electrode configuration, then initialize the pattern analyzer."
   ]
  },
  {
   "cell_type": "code",
   "execution_count": 2,
   "id": "32d565f4",
   "metadata": {},
   "outputs": [
    {
     "name": "stdout",
     "output_type": "stream",
     "text": [
      "Dataset Summary:\n",
      "  • Recording duration: 909.22 seconds\n",
      "  • Number of units: 45\n",
      "  • Number of electrodes: 20\n",
      "  • Total spikes: 290,775\n",
      "  • Electrode configuration loaded: 32 electrodes\n",
      "\n",
      "First few units available: [np.int64(1), np.int64(2), np.int64(3), np.int64(4), np.int64(5), np.int64(6), np.int64(7), np.int64(8), np.int64(9), np.int64(10)]\n"
     ]
    }
   ],
   "source": [
    "# Load data files\n",
    "spike_data = load_spike_data('spikes.csv')\n",
    "electrode_config = load_electrode_config('electrode.cfg')\n",
    "analyzer = SpikePatternAnalyzer(spike_data, electrode_config)\n",
    "\n",
    "# Print summary using utils function\n",
    "print_data_summary(spike_data, electrode_config)\n",
    "\n",
    "# Get basic info for widgets\n",
    "unique_units = sorted(spike_data['unit'].unique())\n",
    "unique_electrodes = sorted(spike_data['electrode'].unique())\n",
    "\n",
    "print(f\"\\nFirst few units available: {unique_units[:10]}\")"
   ]
  },
  {
   "cell_type": "markdown",
   "id": "c5ad56d8",
   "metadata": {},
   "source": [
    "## 3. Define Pattern Identification Parameters\n",
    "\n",
    "Set up configurable parameters for different types of pattern analysis."
   ]
  },
  {
   "cell_type": "code",
   "execution_count": null,
   "id": "1ca3a818",
   "metadata": {},
   "outputs": [
    {
     "data": {
      "application/vnd.jupyter.widget-view+json": {
       "model_id": "49fb7553b9564e33b2d6f687d63096f0",
       "version_major": 2,
       "version_minor": 0
      },
      "text/plain": [
       "VBox(children=(HTML(value='<h3>Analysis Parameters</h3>'), Dropdown(description='Unit ID:', options=(np.int64(…"
      ]
     },
     "metadata": {},
     "output_type": "display_data"
    },
    {
     "name": "stdout",
     "output_type": "stream",
     "text": [
      "Parameter widgets ready!\n"
     ]
    }
   ],
   "source": [
    "# Create compact parameter widgets\n",
    "unit_selector = widgets.Dropdown(\n",
    "    options=unique_units,\n",
    "    value=unique_units[0],\n",
    "    description='Unit ID:'\n",
    ")\n",
    "\n",
    "burst_max_isi = widgets.FloatSlider(\n",
    "    value=0.01, min=0.001, max=0.1, step=0.001,\n",
    "    description='Burst Max ISI (s):', readout_format='.3f'\n",
    ")\n",
    "\n",
    "burst_min_spikes = widgets.IntSlider(\n",
    "    value=3, min=2, max=10,\n",
    "    description='Min Spikes in Burst:'\n",
    ")\n",
    "\n",
    "fr_window_size = widgets.FloatSlider(\n",
    "    value=1.0, min=0.1, max=5.0, step=0.1,\n",
    "    description='FR Window (s):'\n",
    ")\n",
    "\n",
    "# Analysis button\n",
    "analyze_button = widgets.Button(\n",
    "    description='Set Parameters',\n",
    "    button_style='success'\n",
    ")\n",
    "\n",
    "# Compact parameter layout\n",
    "parameter_box = widgets.VBox([\n",
    "    widgets.HTML(\"<h3>Analysis Parameters</h3>\"),\n",
    "    unit_selector,\n",
    "    burst_max_isi,\n",
    "    burst_min_spikes,\n",
    "    fr_window_size,\n",
    "    analyze_button\n",
    "])\n",
    "\n",
    "display(parameter_box)\n",
    "print(\"Parameter widgets ready!\")"
   ]
  },
  {
   "cell_type": "markdown",
   "id": "4b17ee24",
   "metadata": {},
   "source": [
    "## 4. Run Pattern Identifier for Specific Units\n",
    "\n",
    "Execute pattern identification with the selected parameters and display results."
   ]
  },
  {
   "cell_type": "code",
   "execution_count": null,
   "id": "59fee38a",
   "metadata": {},
   "outputs": [
    {
     "name": "stdout",
     "output_type": "stream",
     "text": [
      "Running analysis for Unit 1...\n"
     ]
    }
   ],
   "source": [
    "# Run pattern analysis with selected parameters\n",
    "def run_pattern_analysis():\n",
    "    # Get parameters from widgets\n",
    "    params = {\n",
    "        'burst_max_isi': burst_max_isi.value,\n",
    "        'burst_min_spikes': burst_min_spikes.value,\n",
    "        'firing_rate_window': fr_window_size.value,\n",
    "    }\n",
    "    \n",
    "    current_unit = unit_selector.value\n",
    "    print(f\"Running analysis for Unit {current_unit}...\")\n",
    "    \n",
    "    # Run analysis\n",
    "    results = analyzer.run_pattern_analysis(current_unit, params)\n",
    "    \n",
    "    # Print results using utils function\n",
    "    analyzer.print_analysis_results(results, current_unit)\n",
    "    \n",
    "    return results, current_unit\n",
    "\n",
    "# Run the analysis automatically\n",
    "current_results, current_unit = run_pattern_analysis()"
   ]
  },
  {
   "cell_type": "markdown",
   "id": "24aa5da8",
   "metadata": {},
   "source": [
    "## 5. Visualize Identified Patterns\n",
    "\n",
    "Create comprehensive visualizations of the identified patterns."
   ]
  },
  {
   "cell_type": "code",
   "execution_count": null,
   "id": "3976d4a0",
   "metadata": {},
   "outputs": [
    {
     "name": "stdout",
     "output_type": "stream",
     "text": [
      "Visualization function ready!\n"
     ]
    },
    {
     "data": {
      "application/vnd.jupyter.widget-view+json": {
       "model_id": "782870b6f4dd4faebcba0ddd8f08781f",
       "version_major": 2,
       "version_minor": 0
      },
      "text/plain": [
       "Button(button_style='info', description='Generate Visualizations', style=ButtonStyle(), tooltip='Create compre…"
      ]
     },
     "metadata": {},
     "output_type": "display_data"
    }
   ],
   "source": [
    "# Create visualizations for the analyzed unit\n",
    "if current_results is None:\n",
    "    print(\"No analysis results available. Please run the analysis cell above first.\")\n",
    "elif 'error' in current_results:\n",
    "    print(f\"Cannot visualize results due to error: {current_results['error']}\")\n",
    "else:\n",
    "    print(f\"Creating visualizations for Unit {current_unit}...\")\n",
    "    \n",
    "    try:\n",
    "        # Use the comprehensive plotting function from utils\n",
    "        fig = plot_unit_analysis(analyzer, current_unit, current_results, figsize=(16, 12))\n",
    "        plt.show()\n",
    "        print(\"Visualization completed successfully!\")\n",
    "        \n",
    "    except Exception as e:\n",
    "        print(f\"Error creating plots: {str(e)}\")"
   ]
  },
  {
   "cell_type": "markdown",
   "id": "6a0f0465",
   "metadata": {},
   "source": [
    "## 6. Export Pattern Results\n",
    "\n",
    "Save the identified patterns to files for further analysis."
   ]
  },
  {
   "cell_type": "code",
   "execution_count": null,
   "id": "e734f389",
   "metadata": {},
   "outputs": [],
   "source": [
    "# Simplified export functionality\n",
    "import json\n",
    "\n",
    "export_button = widgets.Button(\n",
    "    description='Export Current Results',\n",
    "    button_style='warning'\n",
    ")\n",
    "\n",
    "def export_results(button):\n",
    "    global current_results, current_unit\n",
    "    \n",
    "    if current_results is None:\n",
    "        print(\"No analysis results available. Please run pattern analysis first.\")\n",
    "        return\n",
    "    \n",
    "    if 'error' in current_results:\n",
    "        print(f\"Cannot export results due to error: {current_results['error']}\")\n",
    "        return\n",
    "    \n",
    "    filename = f\"pattern_analysis_unit_{current_unit}.json\"\n",
    "    \n",
    "    try:\n",
    "        # Simple export - convert numpy arrays to lists\n",
    "        export_data = {}\n",
    "        for key, value in current_results.items():\n",
    "            if hasattr(value, 'tolist'):\n",
    "                export_data[key] = value.tolist()\n",
    "            elif isinstance(value, dict):\n",
    "                export_data[key] = {}\n",
    "                for k, v in value.items():\n",
    "                    export_data[key][k] = v.tolist() if hasattr(v, 'tolist') else v\n",
    "            else:\n",
    "                export_data[key] = value\n",
    "        \n",
    "        with open(filename, 'w') as f:\n",
    "            json.dump(export_data, f, indent=2, default=str)\n",
    "        \n",
    "        print(f\"Results exported to {filename}\")\n",
    "        \n",
    "    except Exception as e:\n",
    "        print(f\"Error during export: {str(e)}\")\n",
    "\n",
    "export_button.on_click(export_results)\n",
    "display(export_button)"
   ]
  },
  {
   "cell_type": "markdown",
   "id": "9aace55b",
   "metadata": {},
   "source": [
    "## Batch Analysis\n",
    "\n",
    "Run pattern analysis on multiple units for comparison."
   ]
  },
  {
   "cell_type": "code",
   "execution_count": null,
   "id": "976921f6",
   "metadata": {},
   "outputs": [],
   "source": [
    "# Simplified batch analysis\n",
    "batch_units = widgets.SelectMultiple(\n",
    "    options=unique_units[:20],  # Limit to first 20 for performance\n",
    "    value=unique_units[:5],\n",
    "    description='Select Units:',\n",
    "    rows=8\n",
    ")\n",
    "\n",
    "batch_button = widgets.Button(\n",
    "    description='Run Batch Analysis',\n",
    "    button_style='primary'\n",
    ")\n",
    "\n",
    "def run_batch_analysis(button):\n",
    "    selected_units = list(batch_units.value)\n",
    "    \n",
    "    if not selected_units:\n",
    "        print(\"No units selected for batch analysis.\")\n",
    "        return\n",
    "    \n",
    "    print(f\"Running batch analysis on {len(selected_units)} units...\")\n",
    "    \n",
    "    # Get current parameters\n",
    "    params = {\n",
    "        'burst_max_isi': burst_max_isi.value,\n",
    "        'burst_min_spikes': burst_min_spikes.value,\n",
    "        'firing_rate_window': fr_window_size.value,\n",
    "    }\n",
    "    \n",
    "    batch_results = {}\n",
    "    for unit_id in selected_units:\n",
    "        try:\n",
    "            results = analyzer.run_pattern_analysis(unit_id, params)\n",
    "            batch_results[unit_id] = results\n",
    "        except Exception as e:\n",
    "            batch_results[unit_id] = {'error': str(e)}\n",
    "    \n",
    "    # Print summary using utils function\n",
    "    analyzer.print_batch_summary(batch_results)\n",
    "\n",
    "batch_button.on_click(run_batch_analysis)\n",
    "\n",
    "# Batch analysis interface\n",
    "batch_box = widgets.VBox([\n",
    "    widgets.HTML(\"<h3>Batch Analysis</h3>\"),\n",
    "    batch_units,\n",
    "    batch_button\n",
    "])\n",
    "\n",
    "display(batch_box)"
   ]
  },
  {
   "cell_type": "markdown",
   "id": "1b305281",
   "metadata": {},
   "source": [
    "## Summary\n",
    "\n",
    "This notebook provides a comprehensive interactive interface for spike pattern analysis. You can:\n",
    "\n",
    "1. **Load Data**: Import spike data and electrode configuration\n",
    "2. **Set Parameters**: Configure analysis parameters using interactive widgets\n",
    "3. **Analyze Individual Units**: Run detailed pattern analysis on specific units\n",
    "4. **Visualize Results**: Generate comprehensive plots and visualizations\n",
    "5. **Export Results**: Save analysis results in JSON or CSV format\n",
    "6. **Batch Analysis**: Compare multiple units simultaneously\n",
    "\n",
    "The analysis includes:\n",
    "- **Burst Detection**: Identify bursting patterns in spike trains\n",
    "- **Firing Rate Analysis**: Calculate instantaneous and mean firing rates\n",
    "- **ISI Analysis**: Inter-spike interval statistics and variability\n",
    "- **Rhythmicity Analysis**: Detect periodic patterns using spectral analysis\n",
    "- **Pattern Classification**: Automatically classify firing patterns\n",
    "\n",
    "Use the controls above to explore your spike data interactively!"
   ]
  }
 ],
 "metadata": {
  "kernelspec": {
   "display_name": "Python 3",
   "language": "python",
   "name": "python3"
  },
  "language_info": {
   "codemirror_mode": {
    "name": "ipython",
    "version": 3
   },
   "file_extension": ".py",
   "mimetype": "text/x-python",
   "name": "python",
   "nbconvert_exporter": "python",
   "pygments_lexer": "ipython3",
   "version": "3.13.7"
  }
 },
 "nbformat": 4,
 "nbformat_minor": 5
}
