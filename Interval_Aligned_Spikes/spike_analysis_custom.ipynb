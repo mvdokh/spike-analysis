{
 "cells": [
  {
   "cell_type": "markdown",
   "id": "b9fb085d",
   "metadata": {},
   "source": [
    "# Spike Analysis with Custom Time Ranges\n",
    "\n",
    "This notebook allows you to create raster plots, electrode schematics, and firing rate analyses with custom time ranges."
   ]
  },
  {
   "cell_type": "code",
   "execution_count": null,
   "id": "5f448f2d",
   "metadata": {},
   "outputs": [],
   "source": [
    "# Import the utility functions\n",
    "import sys\n",
    "import os\n",
    "\n",
    "# Add the path to aligned_utils - handle different working directories\n",
    "current_dir = os.getcwd()\n",
    "if os.path.basename(current_dir) == 'Interval_Aligned_Spikes':\n",
    "    # We're already in the right directory\n",
    "    pass\n",
    "else:\n",
    "    # We're in the parent directory, add the subdirectory to path\n",
    "    sys.path.append(os.path.join(current_dir, 'Interval_Aligned_Spikes'))\n",
    "\n",
    "from aligned_utils import (\n",
    "    load_data, \n",
    "    create_raster_plot_custom, \n",
    "    create_electrode_schematic, \n",
    "    create_firing_heatmap,\n",
    "    create_summary_statistics,\n",
    "    run_full_analysis,\n",
    "    quick_raster,\n",
    "    get_time_range_info\n",
    ")\n",
    "\n",
    "import matplotlib.pyplot as plt\n",
    "import pandas as pd\n",
    "import numpy as np\n",
    "\n",
    "# Configure matplotlib for notebook\n",
    "%matplotlib inline\n",
    "plt.rcParams['figure.figsize'] = (12, 8)"
   ]
  },
  {
   "cell_type": "markdown",
   "id": "e9e22e08",
   "metadata": {},
   "source": [
    "## Load Data and Get Overview"
   ]
  },
  {
   "cell_type": "code",
   "execution_count": 2,
   "id": "3472bb56",
   "metadata": {},
   "outputs": [
    {
     "name": "stdout",
     "output_type": "stream",
     "text": [
      "Loading data files...\n"
     ]
    },
    {
     "ename": "FileNotFoundError",
     "evalue": "[Errno 2] No such file or directory: 'Interval_Aligned_Spikes/spikes_time_adjusted.csv'",
     "output_type": "error",
     "traceback": [
      "\u001b[31m---------------------------------------------------------------------------\u001b[39m",
      "\u001b[31mFileNotFoundError\u001b[39m                         Traceback (most recent call last)",
      "\u001b[36mCell\u001b[39m\u001b[36m \u001b[39m\u001b[32mIn[2]\u001b[39m\u001b[32m, line 2\u001b[39m\n\u001b[32m      1\u001b[39m \u001b[38;5;66;03m# Load all data\u001b[39;00m\n\u001b[32m----> \u001b[39m\u001b[32m2\u001b[39m spikes_df, pico_df, electrode_df = \u001b[43mload_data\u001b[49m\u001b[43m(\u001b[49m\u001b[43m)\u001b[49m\n\u001b[32m      4\u001b[39m \u001b[38;5;66;03m# Get time range information\u001b[39;00m\n\u001b[32m      5\u001b[39m min_time, max_time = get_time_range_info(spikes_df)\n",
      "\u001b[36mFile \u001b[39m\u001b[32m~/spike-analysis/Interval_Aligned_Spikes/aligned_utils.py:24\u001b[39m, in \u001b[36mload_data\u001b[39m\u001b[34m()\u001b[39m\n\u001b[32m     21\u001b[39m \u001b[38;5;28mprint\u001b[39m(\u001b[33m\"\u001b[39m\u001b[33mLoading data files...\u001b[39m\u001b[33m\"\u001b[39m)\n\u001b[32m     23\u001b[39m \u001b[38;5;66;03m# Load spikes data (time, unit, electrode)\u001b[39;00m\n\u001b[32m---> \u001b[39m\u001b[32m24\u001b[39m spikes_df = \u001b[43mpd\u001b[49m\u001b[43m.\u001b[49m\u001b[43mread_csv\u001b[49m\u001b[43m(\u001b[49m\u001b[33;43m'\u001b[39;49m\u001b[33;43mInterval_Aligned_Spikes/spikes_time_adjusted.csv\u001b[39;49m\u001b[33;43m'\u001b[39;49m\u001b[43m,\u001b[49m\u001b[43m \u001b[49m\n\u001b[32m     25\u001b[39m \u001b[43m                       \u001b[49m\u001b[43mnames\u001b[49m\u001b[43m=\u001b[49m\u001b[43m[\u001b[49m\u001b[33;43m'\u001b[39;49m\u001b[33;43mtime\u001b[39;49m\u001b[33;43m'\u001b[39;49m\u001b[43m,\u001b[49m\u001b[43m \u001b[49m\u001b[33;43m'\u001b[39;49m\u001b[33;43munit\u001b[39;49m\u001b[33;43m'\u001b[39;49m\u001b[43m,\u001b[49m\u001b[43m \u001b[49m\u001b[33;43m'\u001b[39;49m\u001b[33;43melectrode\u001b[39;49m\u001b[33;43m'\u001b[39;49m\u001b[43m]\u001b[49m\u001b[43m)\u001b[49m\n\u001b[32m     27\u001b[39m \u001b[38;5;66;03m# Load pico intervals (Start, End)\u001b[39;00m\n\u001b[32m     28\u001b[39m pico_df = pd.read_csv(\u001b[33m'\u001b[39m\u001b[33mInterval_Aligned_Spikes/pico.csv\u001b[39m\u001b[33m'\u001b[39m)\n",
      "\u001b[36mFile \u001b[39m\u001b[32m~/miniconda3/lib/python3.11/site-packages/pandas/io/parsers/readers.py:1026\u001b[39m, in \u001b[36mread_csv\u001b[39m\u001b[34m(filepath_or_buffer, sep, delimiter, header, names, index_col, usecols, dtype, engine, converters, true_values, false_values, skipinitialspace, skiprows, skipfooter, nrows, na_values, keep_default_na, na_filter, verbose, skip_blank_lines, parse_dates, infer_datetime_format, keep_date_col, date_parser, date_format, dayfirst, cache_dates, iterator, chunksize, compression, thousands, decimal, lineterminator, quotechar, quoting, doublequote, escapechar, comment, encoding, encoding_errors, dialect, on_bad_lines, delim_whitespace, low_memory, memory_map, float_precision, storage_options, dtype_backend)\u001b[39m\n\u001b[32m   1013\u001b[39m kwds_defaults = _refine_defaults_read(\n\u001b[32m   1014\u001b[39m     dialect,\n\u001b[32m   1015\u001b[39m     delimiter,\n\u001b[32m   (...)\u001b[39m\u001b[32m   1022\u001b[39m     dtype_backend=dtype_backend,\n\u001b[32m   1023\u001b[39m )\n\u001b[32m   1024\u001b[39m kwds.update(kwds_defaults)\n\u001b[32m-> \u001b[39m\u001b[32m1026\u001b[39m \u001b[38;5;28;01mreturn\u001b[39;00m \u001b[43m_read\u001b[49m\u001b[43m(\u001b[49m\u001b[43mfilepath_or_buffer\u001b[49m\u001b[43m,\u001b[49m\u001b[43m \u001b[49m\u001b[43mkwds\u001b[49m\u001b[43m)\u001b[49m\n",
      "\u001b[36mFile \u001b[39m\u001b[32m~/miniconda3/lib/python3.11/site-packages/pandas/io/parsers/readers.py:620\u001b[39m, in \u001b[36m_read\u001b[39m\u001b[34m(filepath_or_buffer, kwds)\u001b[39m\n\u001b[32m    617\u001b[39m _validate_names(kwds.get(\u001b[33m\"\u001b[39m\u001b[33mnames\u001b[39m\u001b[33m\"\u001b[39m, \u001b[38;5;28;01mNone\u001b[39;00m))\n\u001b[32m    619\u001b[39m \u001b[38;5;66;03m# Create the parser.\u001b[39;00m\n\u001b[32m--> \u001b[39m\u001b[32m620\u001b[39m parser = \u001b[43mTextFileReader\u001b[49m\u001b[43m(\u001b[49m\u001b[43mfilepath_or_buffer\u001b[49m\u001b[43m,\u001b[49m\u001b[43m \u001b[49m\u001b[43m*\u001b[49m\u001b[43m*\u001b[49m\u001b[43mkwds\u001b[49m\u001b[43m)\u001b[49m\n\u001b[32m    622\u001b[39m \u001b[38;5;28;01mif\u001b[39;00m chunksize \u001b[38;5;129;01mor\u001b[39;00m iterator:\n\u001b[32m    623\u001b[39m     \u001b[38;5;28;01mreturn\u001b[39;00m parser\n",
      "\u001b[36mFile \u001b[39m\u001b[32m~/miniconda3/lib/python3.11/site-packages/pandas/io/parsers/readers.py:1620\u001b[39m, in \u001b[36mTextFileReader.__init__\u001b[39m\u001b[34m(self, f, engine, **kwds)\u001b[39m\n\u001b[32m   1617\u001b[39m     \u001b[38;5;28mself\u001b[39m.options[\u001b[33m\"\u001b[39m\u001b[33mhas_index_names\u001b[39m\u001b[33m\"\u001b[39m] = kwds[\u001b[33m\"\u001b[39m\u001b[33mhas_index_names\u001b[39m\u001b[33m\"\u001b[39m]\n\u001b[32m   1619\u001b[39m \u001b[38;5;28mself\u001b[39m.handles: IOHandles | \u001b[38;5;28;01mNone\u001b[39;00m = \u001b[38;5;28;01mNone\u001b[39;00m\n\u001b[32m-> \u001b[39m\u001b[32m1620\u001b[39m \u001b[38;5;28mself\u001b[39m._engine = \u001b[38;5;28;43mself\u001b[39;49m\u001b[43m.\u001b[49m\u001b[43m_make_engine\u001b[49m\u001b[43m(\u001b[49m\u001b[43mf\u001b[49m\u001b[43m,\u001b[49m\u001b[43m \u001b[49m\u001b[38;5;28;43mself\u001b[39;49m\u001b[43m.\u001b[49m\u001b[43mengine\u001b[49m\u001b[43m)\u001b[49m\n",
      "\u001b[36mFile \u001b[39m\u001b[32m~/miniconda3/lib/python3.11/site-packages/pandas/io/parsers/readers.py:1880\u001b[39m, in \u001b[36mTextFileReader._make_engine\u001b[39m\u001b[34m(self, f, engine)\u001b[39m\n\u001b[32m   1878\u001b[39m     \u001b[38;5;28;01mif\u001b[39;00m \u001b[33m\"\u001b[39m\u001b[33mb\u001b[39m\u001b[33m\"\u001b[39m \u001b[38;5;129;01mnot\u001b[39;00m \u001b[38;5;129;01min\u001b[39;00m mode:\n\u001b[32m   1879\u001b[39m         mode += \u001b[33m\"\u001b[39m\u001b[33mb\u001b[39m\u001b[33m\"\u001b[39m\n\u001b[32m-> \u001b[39m\u001b[32m1880\u001b[39m \u001b[38;5;28mself\u001b[39m.handles = \u001b[43mget_handle\u001b[49m\u001b[43m(\u001b[49m\n\u001b[32m   1881\u001b[39m \u001b[43m    \u001b[49m\u001b[43mf\u001b[49m\u001b[43m,\u001b[49m\n\u001b[32m   1882\u001b[39m \u001b[43m    \u001b[49m\u001b[43mmode\u001b[49m\u001b[43m,\u001b[49m\n\u001b[32m   1883\u001b[39m \u001b[43m    \u001b[49m\u001b[43mencoding\u001b[49m\u001b[43m=\u001b[49m\u001b[38;5;28;43mself\u001b[39;49m\u001b[43m.\u001b[49m\u001b[43moptions\u001b[49m\u001b[43m.\u001b[49m\u001b[43mget\u001b[49m\u001b[43m(\u001b[49m\u001b[33;43m\"\u001b[39;49m\u001b[33;43mencoding\u001b[39;49m\u001b[33;43m\"\u001b[39;49m\u001b[43m,\u001b[49m\u001b[43m \u001b[49m\u001b[38;5;28;43;01mNone\u001b[39;49;00m\u001b[43m)\u001b[49m\u001b[43m,\u001b[49m\n\u001b[32m   1884\u001b[39m \u001b[43m    \u001b[49m\u001b[43mcompression\u001b[49m\u001b[43m=\u001b[49m\u001b[38;5;28;43mself\u001b[39;49m\u001b[43m.\u001b[49m\u001b[43moptions\u001b[49m\u001b[43m.\u001b[49m\u001b[43mget\u001b[49m\u001b[43m(\u001b[49m\u001b[33;43m\"\u001b[39;49m\u001b[33;43mcompression\u001b[39;49m\u001b[33;43m\"\u001b[39;49m\u001b[43m,\u001b[49m\u001b[43m \u001b[49m\u001b[38;5;28;43;01mNone\u001b[39;49;00m\u001b[43m)\u001b[49m\u001b[43m,\u001b[49m\n\u001b[32m   1885\u001b[39m \u001b[43m    \u001b[49m\u001b[43mmemory_map\u001b[49m\u001b[43m=\u001b[49m\u001b[38;5;28;43mself\u001b[39;49m\u001b[43m.\u001b[49m\u001b[43moptions\u001b[49m\u001b[43m.\u001b[49m\u001b[43mget\u001b[49m\u001b[43m(\u001b[49m\u001b[33;43m\"\u001b[39;49m\u001b[33;43mmemory_map\u001b[39;49m\u001b[33;43m\"\u001b[39;49m\u001b[43m,\u001b[49m\u001b[43m \u001b[49m\u001b[38;5;28;43;01mFalse\u001b[39;49;00m\u001b[43m)\u001b[49m\u001b[43m,\u001b[49m\n\u001b[32m   1886\u001b[39m \u001b[43m    \u001b[49m\u001b[43mis_text\u001b[49m\u001b[43m=\u001b[49m\u001b[43mis_text\u001b[49m\u001b[43m,\u001b[49m\n\u001b[32m   1887\u001b[39m \u001b[43m    \u001b[49m\u001b[43merrors\u001b[49m\u001b[43m=\u001b[49m\u001b[38;5;28;43mself\u001b[39;49m\u001b[43m.\u001b[49m\u001b[43moptions\u001b[49m\u001b[43m.\u001b[49m\u001b[43mget\u001b[49m\u001b[43m(\u001b[49m\u001b[33;43m\"\u001b[39;49m\u001b[33;43mencoding_errors\u001b[39;49m\u001b[33;43m\"\u001b[39;49m\u001b[43m,\u001b[49m\u001b[43m \u001b[49m\u001b[33;43m\"\u001b[39;49m\u001b[33;43mstrict\u001b[39;49m\u001b[33;43m\"\u001b[39;49m\u001b[43m)\u001b[49m\u001b[43m,\u001b[49m\n\u001b[32m   1888\u001b[39m \u001b[43m    \u001b[49m\u001b[43mstorage_options\u001b[49m\u001b[43m=\u001b[49m\u001b[38;5;28;43mself\u001b[39;49m\u001b[43m.\u001b[49m\u001b[43moptions\u001b[49m\u001b[43m.\u001b[49m\u001b[43mget\u001b[49m\u001b[43m(\u001b[49m\u001b[33;43m\"\u001b[39;49m\u001b[33;43mstorage_options\u001b[39;49m\u001b[33;43m\"\u001b[39;49m\u001b[43m,\u001b[49m\u001b[43m \u001b[49m\u001b[38;5;28;43;01mNone\u001b[39;49;00m\u001b[43m)\u001b[49m\u001b[43m,\u001b[49m\n\u001b[32m   1889\u001b[39m \u001b[43m\u001b[49m\u001b[43m)\u001b[49m\n\u001b[32m   1890\u001b[39m \u001b[38;5;28;01massert\u001b[39;00m \u001b[38;5;28mself\u001b[39m.handles \u001b[38;5;129;01mis\u001b[39;00m \u001b[38;5;129;01mnot\u001b[39;00m \u001b[38;5;28;01mNone\u001b[39;00m\n\u001b[32m   1891\u001b[39m f = \u001b[38;5;28mself\u001b[39m.handles.handle\n",
      "\u001b[36mFile \u001b[39m\u001b[32m~/miniconda3/lib/python3.11/site-packages/pandas/io/common.py:873\u001b[39m, in \u001b[36mget_handle\u001b[39m\u001b[34m(path_or_buf, mode, encoding, compression, memory_map, is_text, errors, storage_options)\u001b[39m\n\u001b[32m    868\u001b[39m \u001b[38;5;28;01melif\u001b[39;00m \u001b[38;5;28misinstance\u001b[39m(handle, \u001b[38;5;28mstr\u001b[39m):\n\u001b[32m    869\u001b[39m     \u001b[38;5;66;03m# Check whether the filename is to be opened in binary mode.\u001b[39;00m\n\u001b[32m    870\u001b[39m     \u001b[38;5;66;03m# Binary mode does not support 'encoding' and 'newline'.\u001b[39;00m\n\u001b[32m    871\u001b[39m     \u001b[38;5;28;01mif\u001b[39;00m ioargs.encoding \u001b[38;5;129;01mand\u001b[39;00m \u001b[33m\"\u001b[39m\u001b[33mb\u001b[39m\u001b[33m\"\u001b[39m \u001b[38;5;129;01mnot\u001b[39;00m \u001b[38;5;129;01min\u001b[39;00m ioargs.mode:\n\u001b[32m    872\u001b[39m         \u001b[38;5;66;03m# Encoding\u001b[39;00m\n\u001b[32m--> \u001b[39m\u001b[32m873\u001b[39m         handle = \u001b[38;5;28;43mopen\u001b[39;49m\u001b[43m(\u001b[49m\n\u001b[32m    874\u001b[39m \u001b[43m            \u001b[49m\u001b[43mhandle\u001b[49m\u001b[43m,\u001b[49m\n\u001b[32m    875\u001b[39m \u001b[43m            \u001b[49m\u001b[43mioargs\u001b[49m\u001b[43m.\u001b[49m\u001b[43mmode\u001b[49m\u001b[43m,\u001b[49m\n\u001b[32m    876\u001b[39m \u001b[43m            \u001b[49m\u001b[43mencoding\u001b[49m\u001b[43m=\u001b[49m\u001b[43mioargs\u001b[49m\u001b[43m.\u001b[49m\u001b[43mencoding\u001b[49m\u001b[43m,\u001b[49m\n\u001b[32m    877\u001b[39m \u001b[43m            \u001b[49m\u001b[43merrors\u001b[49m\u001b[43m=\u001b[49m\u001b[43merrors\u001b[49m\u001b[43m,\u001b[49m\n\u001b[32m    878\u001b[39m \u001b[43m            \u001b[49m\u001b[43mnewline\u001b[49m\u001b[43m=\u001b[49m\u001b[33;43m\"\u001b[39;49m\u001b[33;43m\"\u001b[39;49m\u001b[43m,\u001b[49m\n\u001b[32m    879\u001b[39m \u001b[43m        \u001b[49m\u001b[43m)\u001b[49m\n\u001b[32m    880\u001b[39m     \u001b[38;5;28;01melse\u001b[39;00m:\n\u001b[32m    881\u001b[39m         \u001b[38;5;66;03m# Binary mode\u001b[39;00m\n\u001b[32m    882\u001b[39m         handle = \u001b[38;5;28mopen\u001b[39m(handle, ioargs.mode)\n",
      "\u001b[31mFileNotFoundError\u001b[39m: [Errno 2] No such file or directory: 'Interval_Aligned_Spikes/spikes_time_adjusted.csv'"
     ]
    }
   ],
   "source": [
    "# Load all data\n",
    "spikes_df, pico_df, electrode_df = load_data()\n",
    "\n",
    "# Get time range information\n",
    "min_time, max_time = get_time_range_info(spikes_df)\n",
    "\n",
    "# Show basic statistics\n",
    "create_summary_statistics(spikes_df, pico_df)"
   ]
  },
  {
   "cell_type": "markdown",
   "id": "bad13d48",
   "metadata": {},
   "source": [
    "## Create Electrode Schematic\n",
    "\n",
    "This shows the spatial layout of all electrodes with their numbers."
   ]
  },
  {
   "cell_type": "code",
   "execution_count": null,
   "id": "7178bc66",
   "metadata": {},
   "outputs": [],
   "source": [
    "# Create electrode schematic\n",
    "fig_schematic = create_electrode_schematic(electrode_df)\n",
    "plt.show()"
   ]
  },
  {
   "cell_type": "markdown",
   "id": "adc577ee",
   "metadata": {},
   "source": [
    "## Create Firing Rate Heatmap\n",
    "\n",
    "This shows which electrodes are most active across the entire recording."
   ]
  },
  {
   "cell_type": "code",
   "execution_count": null,
   "id": "886a8869",
   "metadata": {},
   "outputs": [],
   "source": [
    "# Create firing rate heatmap\n",
    "fig_heatmap, electrode_rates = create_firing_heatmap(spikes_df, electrode_df)\n",
    "plt.show()\n",
    "\n",
    "# Display the electrode firing rates data\n",
    "print(\"\\nElectrode Firing Rates:\")\n",
    "electrode_rates_display = electrode_rates[['electrode', 'x', 'y', 'firing_rate']].sort_values('firing_rate', ascending=False)\n",
    "electrode_rates_display.head(10)"
   ]
  },
  {
   "cell_type": "markdown",
   "id": "0d4b0a78",
   "metadata": {},
   "source": [
    "## Custom Time Range Raster Plots\n",
    "\n",
    "Now you can specify custom time ranges for detailed analysis. Modify the `time_start` and `time_end` values below."
   ]
  },
  {
   "cell_type": "code",
   "execution_count": null,
   "id": "4b5ddbb5",
   "metadata": {},
   "outputs": [],
   "source": [
    "# Example 1: First 30 seconds\n",
    "time_start = min_time\n",
    "time_end = min_time + 30\n",
    "\n",
    "print(f\"Creating raster plot for {time_start:.1f}s to {time_end:.1f}s\")\n",
    "fig1 = create_raster_plot_custom(spikes_df, pico_df, time_start, time_end)\n",
    "plt.show()"
   ]
  },
  {
   "cell_type": "code",
   "execution_count": null,
   "id": "18a908bf",
   "metadata": {},
   "outputs": [],
   "source": [
    "# Example 2: Middle portion of recording\n",
    "duration = max_time - min_time\n",
    "time_start = min_time + duration * 0.4  # Start at 40% through recording\n",
    "time_end = min_time + duration * 0.6    # End at 60% through recording\n",
    "\n",
    "print(f\"Creating raster plot for {time_start:.1f}s to {time_end:.1f}s\")\n",
    "fig2 = create_raster_plot_custom(spikes_df, pico_df, time_start, time_end)\n",
    "plt.show()"
   ]
  },
  {
   "cell_type": "code",
   "execution_count": null,
   "id": "d818523c",
   "metadata": {},
   "outputs": [],
   "source": [
    "# Example 3: Custom time range - MODIFY THESE VALUES!\n",
    "# Set your desired time range here (in seconds)\n",
    "time_start = 100  # Start time in seconds\n",
    "time_end = 200    # End time in seconds\n",
    "\n",
    "# Optional: specify which electrodes to include (leave as None for all)\n",
    "electrode_subset = None  # e.g., [21, 22, 23] for specific electrodes\n",
    "\n",
    "print(f\"Creating custom raster plot for {time_start}s to {time_end}s\")\n",
    "fig3 = create_raster_plot_custom(spikes_df, pico_df, time_start, time_end, electrode_subset)\n",
    "plt.show()"
   ]
  },
  {
   "cell_type": "markdown",
   "id": "c49188a3",
   "metadata": {},
   "source": [
    "## Quick Raster Function\n",
    "\n",
    "Use this cell to quickly generate raster plots for different time ranges:"
   ]
  },
  {
   "cell_type": "code",
   "execution_count": null,
   "id": "6c3d1abf",
   "metadata": {},
   "outputs": [],
   "source": [
    "# Quick raster plot function - just specify start and end times\n",
    "fig_quick = quick_raster(50, 100)  # 50 to 100 seconds\n",
    "plt.show()"
   ]
  },
  {
   "cell_type": "markdown",
   "id": "32df9eff",
   "metadata": {},
   "source": [
    "## Save Specific Plots\n",
    "\n",
    "Use this cell to save plots with custom filenames:"
   ]
  },
  {
   "cell_type": "code",
   "execution_count": null,
   "id": "4a33efdf",
   "metadata": {},
   "outputs": [],
   "source": [
    "# Create and save a specific time range plot\n",
    "time_start = 200\n",
    "time_end = 300\n",
    "save_filename = f'custom_raster_{time_start}_{time_end}s.png'\n",
    "\n",
    "fig_save = create_raster_plot_custom(spikes_df, pico_df, time_start, time_end, save_path=save_filename)\n",
    "plt.show()\n",
    "\n",
    "print(f\"Plot saved as: {save_filename}\")"
   ]
  },
  {
   "cell_type": "markdown",
   "id": "e91a9bcf",
   "metadata": {},
   "source": [
    "## Interactive Analysis\n",
    "\n",
    "Use this section to explore different time ranges interactively:"
   ]
  },
  {
   "cell_type": "code",
   "execution_count": null,
   "id": "56115bf4",
   "metadata": {},
   "outputs": [],
   "source": [
    "# Function to analyze spike activity in a time window\n",
    "def analyze_time_window(start_time, end_time):\n",
    "    \"\"\"Analyze spike activity in a specific time window\"\"\"\n",
    "    window_spikes = spikes_df[\n",
    "        (spikes_df['time_sec'] >= start_time) & \n",
    "        (spikes_df['time_sec'] <= end_time)\n",
    "    ]\n",
    "    \n",
    "    window_pico = pico_df[\n",
    "        (pico_df['Start_sec'] <= end_time) & \n",
    "        (pico_df['End_sec'] >= start_time)\n",
    "    ]\n",
    "    \n",
    "    duration = end_time - start_time\n",
    "    total_spikes = len(window_spikes)\n",
    "    firing_rate = total_spikes / duration\n",
    "    active_electrodes = len(window_spikes['electrode'].unique())\n",
    "    pico_count = len(window_pico)\n",
    "    \n",
    "    print(f\"\\nTime window analysis ({start_time:.1f}s - {end_time:.1f}s):\")\n",
    "    print(f\"Duration: {duration:.1f}s\")\n",
    "    print(f\"Total spikes: {total_spikes:,}\")\n",
    "    print(f\"Firing rate: {firing_rate:.2f} spikes/second\")\n",
    "    print(f\"Active electrodes: {active_electrodes}\")\n",
    "    print(f\"Pico intervals: {pico_count}\")\n",
    "    \n",
    "    return window_spikes, window_pico\n",
    "\n",
    "# Example usage\n",
    "window_spikes, window_pico = analyze_time_window(100, 150)"
   ]
  },
  {
   "cell_type": "code",
   "execution_count": null,
   "id": "f4d58049",
   "metadata": {},
   "outputs": [],
   "source": [
    "# Find time windows with highest activity\n",
    "def find_high_activity_windows(window_size=30, top_n=5):\n",
    "    \"\"\"Find time windows with highest spike activity\"\"\"\n",
    "    time_bins = np.arange(min_time, max_time, window_size)\n",
    "    activities = []\n",
    "    \n",
    "    for start in time_bins:\n",
    "        end = min(start + window_size, max_time)\n",
    "        window_spikes = spikes_df[\n",
    "            (spikes_df['time_sec'] >= start) & \n",
    "            (spikes_df['time_sec'] < end)\n",
    "        ]\n",
    "        rate = len(window_spikes) / window_size\n",
    "        activities.append((start, end, rate, len(window_spikes)))\n",
    "    \n",
    "    # Sort by firing rate\n",
    "    activities.sort(key=lambda x: x[2], reverse=True)\n",
    "    \n",
    "    print(f\"\\nTop {top_n} most active {window_size}s windows:\")\n",
    "    print(\"Start\\tEnd\\tRate(sp/s)\\tTotal Spikes\")\n",
    "    print(\"-\" * 40)\n",
    "    \n",
    "    for i, (start, end, rate, total) in enumerate(activities[:top_n]):\n",
    "        print(f\"{start:.1f}s\\t{end:.1f}s\\t{rate:.1f}\\t\\t{total}\")\n",
    "    \n",
    "    return activities[:top_n]\n",
    "\n",
    "# Find most active periods\n",
    "top_windows = find_high_activity_windows()"
   ]
  },
  {
   "cell_type": "code",
   "execution_count": null,
   "id": "bd69e270",
   "metadata": {},
   "outputs": [],
   "source": [
    "# Plot the most active window\n",
    "if top_windows:\n",
    "    most_active = top_windows[0]\n",
    "    start, end = most_active[0], most_active[1]\n",
    "    \n",
    "    print(f\"\\nPlotting most active window: {start:.1f}s - {end:.1f}s\")\n",
    "    fig_active = create_raster_plot_custom(spikes_df, pico_df, start, end)\n",
    "    plt.show()"
   ]
  }
 ],
 "metadata": {
  "kernelspec": {
   "display_name": "base",
   "language": "python",
   "name": "python3"
  },
  "language_info": {
   "codemirror_mode": {
    "name": "ipython",
    "version": 3
   },
   "file_extension": ".py",
   "mimetype": "text/x-python",
   "name": "python",
   "nbconvert_exporter": "python",
   "pygments_lexer": "ipython3",
   "version": "3.11.13"
  }
 },
 "nbformat": 4,
 "nbformat_minor": 5
}
